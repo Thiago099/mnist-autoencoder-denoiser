{
 "cells": [
  {
   "cell_type": "code",
   "execution_count": 1,
   "metadata": {},
   "outputs": [],
   "source": [
    "import matplotlib.pyplot as plt\n",
    "import torch\n",
    "import torch.nn as nn\n",
    "import torch.optim as optim\n",
    "from torch.utils.data import DataLoader\n",
    "from torchvision import datasets, transforms\n",
    "from tqdm import tqdm\n",
    "\n",
    "def plotLoss(losses):\n",
    "    plt.figure(dpi=90)\n",
    "    plt.plot(losses, label='Loss')\n",
    "    plt.xlabel('Iterations')\n",
    "    plt.ylabel('Loss')\n",
    "    plt.legend()\n",
    "    plt.show()\n",
    "\n",
    "def displayImage(image, label):\n",
    "        plt.imshow(image.numpy().squeeze().reshape(28,28), cmap='gray')\n",
    "        plt.title(label)\n",
    "        plt.axis('off')\n",
    "\n",
    "def displaySamples(n, **rows):\n",
    "    plt.figure(figsize=(20, 8))\n",
    "    for i in range(n):\n",
    "        j = 0\n",
    "        for key, value in rows.items():\n",
    "            plt.subplot(len(rows), n, i + n*j + 1)\n",
    "            displayImage(value[i], key)\n",
    "            j += 1\n",
    "    plt.show()\n",
    "\n",
    "def numberToOneHot(labels, num_classes):\n",
    "    \n",
    "    one_hot_labels = torch.zeros((labels.shape[0], num_classes)).to(labels.device)\n",
    "    \n",
    "    one_hot_labels.scatter_(1, labels.unsqueeze(1), 1)\n",
    "    \n",
    "    return one_hot_labels.to(device)\n",
    "\n",
    "class ModelPersistence:\n",
    "    @staticmethod\n",
    "    def load(model):\n",
    "        result = model().to(device)\n",
    "        state_dict = torch.load(result.path)\n",
    "        result.load_state_dict(state_dict)\n",
    "        return result\n",
    "    \n",
    "    @staticmethod\n",
    "    def save(model):\n",
    "        torch.save(model.state_dict(), model.path)\n",
    "        \n",
    "device = torch.device(\"cuda\" if torch.cuda.is_available() else \"cpu\")\n",
    "#device = torch.device(\"cpu\")"
   ]
  },
  {
   "cell_type": "code",
   "execution_count": 2,
   "metadata": {},
   "outputs": [],
   "source": [
    "transform = transforms.Compose([\n",
    "    transforms.ToTensor(), \n",
    "    transforms.Lambda(torch.flatten)\n",
    "])\n",
    "\n",
    "batch_size = 64\n",
    "train_dataset = datasets.MNIST(root='./data', train=True, transform=transform, download=True)\n",
    "train_loader = DataLoader(train_dataset, batch_size=batch_size, shuffle=True, num_workers=4)"
   ]
  },
  {
   "cell_type": "code",
   "execution_count": 3,
   "metadata": {},
   "outputs": [],
   "source": [
    "class Encoder(nn.Module):\n",
    "    def __init__(self, learning_rate = 0.001):\n",
    "        super(Encoder, self).__init__()\n",
    "        self.layers = nn.Sequential(\n",
    "            nn.Linear(784, 512),\n",
    "            nn.ReLU(),     \n",
    "            nn.Linear(512, 256),\n",
    "            nn.ReLU(),     \n",
    "            nn.Linear(256, 128),\n",
    "            nn.Sigmoid(),\n",
    "        )\n",
    "\n",
    "        self.optimizer = optim.Adam(self.parameters(), lr=learning_rate)\n",
    "        self.path = 'data/encoder.pth'\n",
    "\n",
    "    def forward(self, x):\n",
    "        x = self.layers(x)\n",
    "        return x\n",
    "    \n",
    "class Decoder(nn.Module):\n",
    "    def __init__(self, learning_rate = 0.001):\n",
    "        super(Decoder, self).__init__()\n",
    "\n",
    "        self.layers = nn.Sequential(\n",
    "            nn.Linear(128, 256),\n",
    "            nn.ReLU(),     \n",
    "            nn.Linear(256, 512),  \n",
    "            nn.ReLU(),     \n",
    "            nn.Linear(512, 784),  \n",
    "            nn.Sigmoid(),\n",
    "        )\n",
    "\n",
    "        self.optimizer = optim.Adam(self.parameters(), lr=learning_rate)\n",
    "        self.path = 'data/decoder.pth'\n",
    "\n",
    "    def forward(self, x):\n",
    "        x = self.layers(x)\n",
    "        return x\n",
    "    \n",
    "class Denoiser(nn.Module):\n",
    "    def __init__(self, learning_rate = 0.001):\n",
    "        super(Denoiser, self).__init__()\n",
    "        self.layers = nn.Sequential(\n",
    "            nn.Linear(128, 128),\n",
    "            nn.ReLU(),     \n",
    "            nn.Linear(128, 128),\n",
    "            nn.ReLU(),\n",
    "            nn.Linear(128, 128),\n",
    "            nn.Sigmoid(),\n",
    "        )\n",
    "        \n",
    "        self.optimizer = optim.Adam(self.parameters(), lr=learning_rate)\n",
    "        self.path = 'data/denoiser.pth'\n",
    "\n",
    "    def forward(self, x):\n",
    "        x = self.layers(x)\n",
    "        return x"
   ]
  },
  {
   "cell_type": "code",
   "execution_count": 4,
   "metadata": {},
   "outputs": [
    {
     "name": "stderr",
     "output_type": "stream",
     "text": [
      "100%|██████████| 938/938 [00:05<00:00, 175.78it/s]\n"
     ]
    },
    {
     "name": "stdout",
     "output_type": "stream",
     "text": [
      "Epoch [1/10], Loss: 0.0297\n"
     ]
    },
    {
     "name": "stderr",
     "output_type": "stream",
     "text": [
      "100%|██████████| 938/938 [00:04<00:00, 198.97it/s]\n"
     ]
    },
    {
     "name": "stdout",
     "output_type": "stream",
     "text": [
      "Epoch [2/10], Loss: 0.0187\n"
     ]
    },
    {
     "name": "stderr",
     "output_type": "stream",
     "text": [
      "100%|██████████| 938/938 [00:04<00:00, 219.74it/s]\n"
     ]
    },
    {
     "name": "stdout",
     "output_type": "stream",
     "text": [
      "Epoch [3/10], Loss: 0.0175\n"
     ]
    },
    {
     "name": "stderr",
     "output_type": "stream",
     "text": [
      "100%|██████████| 938/938 [00:04<00:00, 203.29it/s]\n"
     ]
    },
    {
     "name": "stdout",
     "output_type": "stream",
     "text": [
      "Epoch [4/10], Loss: 0.0179\n"
     ]
    },
    {
     "name": "stderr",
     "output_type": "stream",
     "text": [
      "100%|██████████| 938/938 [00:04<00:00, 202.10it/s]\n"
     ]
    },
    {
     "name": "stdout",
     "output_type": "stream",
     "text": [
      "Epoch [5/10], Loss: 0.0129\n"
     ]
    },
    {
     "name": "stderr",
     "output_type": "stream",
     "text": [
      "100%|██████████| 938/938 [00:04<00:00, 192.93it/s]\n"
     ]
    },
    {
     "name": "stdout",
     "output_type": "stream",
     "text": [
      "Epoch [6/10], Loss: 0.0140\n"
     ]
    },
    {
     "name": "stderr",
     "output_type": "stream",
     "text": [
      "100%|██████████| 938/938 [00:05<00:00, 161.44it/s]\n"
     ]
    },
    {
     "name": "stdout",
     "output_type": "stream",
     "text": [
      "Epoch [7/10], Loss: 0.0103\n"
     ]
    },
    {
     "name": "stderr",
     "output_type": "stream",
     "text": [
      "100%|██████████| 938/938 [00:04<00:00, 196.19it/s]\n"
     ]
    },
    {
     "name": "stdout",
     "output_type": "stream",
     "text": [
      "Epoch [8/10], Loss: 0.0100\n"
     ]
    },
    {
     "name": "stderr",
     "output_type": "stream",
     "text": [
      "100%|██████████| 938/938 [00:04<00:00, 218.80it/s]\n"
     ]
    },
    {
     "name": "stdout",
     "output_type": "stream",
     "text": [
      "Epoch [9/10], Loss: 0.0095\n"
     ]
    },
    {
     "name": "stderr",
     "output_type": "stream",
     "text": [
      "100%|██████████| 938/938 [00:04<00:00, 222.13it/s]"
     ]
    },
    {
     "name": "stdout",
     "output_type": "stream",
     "text": [
      "Epoch [10/10], Loss: 0.0106\n"
     ]
    },
    {
     "name": "stderr",
     "output_type": "stream",
     "text": [
      "\n"
     ]
    },
    {
     "data": {
      "image/png": "[encoded data removed]",
      "text/plain": [
       "<Figure size 576x432 with 1 Axes>"
      ]
     },
     "metadata": {},
     "output_type": "display_data"
    }
   ],
   "source": [
    "learning_rate = 0.001\n",
    "epochs = 10\n",
    "\n",
    "encoder = Encoder(learning_rate).to(device)\n",
    "decoder = Decoder(learning_rate).to(device)\n",
    "criterion = nn.MSELoss()\n",
    "\n",
    "losses = []\n",
    "\n",
    "for epoch in range(epochs):\n",
    "    for data in tqdm(train_loader):\n",
    "        \n",
    "        images, _ = data\n",
    "\n",
    "        images = images.to(device)\n",
    "\n",
    "        encoder.zero_grad()\n",
    "        decoder.zero_grad()\n",
    "        \n",
    "        encodedImages = encoder(images)\n",
    "        outputs = decoder(encodedImages)\n",
    "\n",
    "        loss = criterion(outputs, images)\n",
    "\n",
    "        loss.backward()\n",
    "        losses.append(loss.item())\n",
    "        encoder.optimizer.step()\n",
    "        decoder.optimizer.step()\n",
    "\n",
    "    \n",
    "    print(f'Epoch [{epoch+1}/{epochs}], Loss: {loss.item():.4f}')\n",
    "\n",
    "ModelPersistence.save(encoder)\n",
    "ModelPersistence.save(decoder)\n",
    "\n",
    "plotLoss(losses)"
   ]
  },
  {
   "cell_type": "code",
   "execution_count": 5,
   "metadata": {},
   "outputs": [
    {
     "data": {
      "image/png": "[encoded data removed]",
      "text/plain": [
       "<Figure size 2000x800 with 10 Axes>"
      ]
     },
     "metadata": {},
     "output_type": "display_data"
    }
   ],
   "source": [
    "with torch.no_grad():\n",
    "    test_images, _ = next(iter(train_loader))\n",
    "    test_images = test_images.to(device)\n",
    "    reconstructed_images = decoder(encoder(test_images))\n",
    "    displaySamples(5, original=test_images.cpu(), reconstructed=reconstructed_images.cpu())"
   ]
  },
  {
   "cell_type": "code",
   "execution_count": 6,
   "metadata": {},
   "outputs": [
    {
     "name": "stderr",
     "output_type": "stream",
     "text": [
      "100%|██████████| 938/938 [00:04<00:00, 205.11it/s]\n"
     ]
    },
    {
     "name": "stdout",
     "output_type": "stream",
     "text": [
      "Epoch [1/10], Loss: 0.4144\n"
     ]
    },
    {
     "name": "stderr",
     "output_type": "stream",
     "text": [
      "100%|██████████| 938/938 [00:04<00:00, 210.87it/s]\n"
     ]
    },
    {
     "name": "stdout",
     "output_type": "stream",
     "text": [
      "Epoch [2/10], Loss: 0.4083\n"
     ]
    },
    {
     "name": "stderr",
     "output_type": "stream",
     "text": [
      "100%|██████████| 938/938 [00:04<00:00, 217.57it/s]\n"
     ]
    },
    {
     "name": "stdout",
     "output_type": "stream",
     "text": [
      "Epoch [3/10], Loss: 0.4100\n"
     ]
    },
    {
     "name": "stderr",
     "output_type": "stream",
     "text": [
      "100%|██████████| 938/938 [00:04<00:00, 210.90it/s]\n"
     ]
    },
    {
     "name": "stdout",
     "output_type": "stream",
     "text": [
      "Epoch [4/10], Loss: 0.4108\n"
     ]
    },
    {
     "name": "stderr",
     "output_type": "stream",
     "text": [
      "100%|██████████| 938/938 [00:04<00:00, 217.54it/s]\n"
     ]
    },
    {
     "name": "stdout",
     "output_type": "stream",
     "text": [
      "Epoch [5/10], Loss: 0.4080\n"
     ]
    },
    {
     "name": "stderr",
     "output_type": "stream",
     "text": [
      "100%|██████████| 938/938 [00:04<00:00, 227.78it/s]\n"
     ]
    },
    {
     "name": "stdout",
     "output_type": "stream",
     "text": [
      "Epoch [6/10], Loss: 0.4059\n"
     ]
    },
    {
     "name": "stderr",
     "output_type": "stream",
     "text": [
      "100%|██████████| 938/938 [00:04<00:00, 227.71it/s]\n"
     ]
    },
    {
     "name": "stdout",
     "output_type": "stream",
     "text": [
      "Epoch [7/10], Loss: 0.4011\n"
     ]
    },
    {
     "name": "stderr",
     "output_type": "stream",
     "text": [
      "100%|██████████| 938/938 [00:04<00:00, 220.61it/s]\n"
     ]
    },
    {
     "name": "stdout",
     "output_type": "stream",
     "text": [
      "Epoch [8/10], Loss: 0.4141\n"
     ]
    },
    {
     "name": "stderr",
     "output_type": "stream",
     "text": [
      "100%|██████████| 938/938 [00:06<00:00, 151.34it/s]\n"
     ]
    },
    {
     "name": "stdout",
     "output_type": "stream",
     "text": [
      "Epoch [9/10], Loss: 0.4139\n"
     ]
    },
    {
     "name": "stderr",
     "output_type": "stream",
     "text": [
      "100%|██████████| 938/938 [00:05<00:00, 168.41it/s]"
     ]
    },
    {
     "name": "stdout",
     "output_type": "stream",
     "text": [
      "Epoch [10/10], Loss: 0.4112\n"
     ]
    },
    {
     "name": "stderr",
     "output_type": "stream",
     "text": [
      "\n"
     ]
    },
    {
     "data": {
      "image/png": "[encoded data removed]",
      "text/plain": [
       "<Figure size 576x432 with 1 Axes>"
      ]
     },
     "metadata": {},
     "output_type": "display_data"
    }
   ],
   "source": [
    "learning_rate = 0.001\n",
    "epochs = 10\n",
    "\n",
    "denoiser = Denoiser(learning_rate).to(device)\n",
    "criterion = nn.BCELoss()\n",
    "\n",
    "losses = []\n",
    "\n",
    "for epoch in range(epochs):\n",
    "    for data in tqdm(train_loader):\n",
    "        \n",
    "        images, labels = data\n",
    "        oneHotLabels = numberToOneHot(labels,  10)\n",
    "        images = images.to(device)\n",
    "        denoiser.optimizer.zero_grad()\n",
    "        \n",
    "        encoded = encoder(images)\n",
    "        noise = torch.randn_like(encoded) * 0.25\n",
    "        dimEncoded = encoded * 0.75\n",
    "\n",
    "        predicted = denoiser(dimEncoded + noise)\n",
    "        loss = criterion(predicted, encoded)\n",
    "        \n",
    "        loss.backward()\n",
    "        losses.append(loss.item())\n",
    "        denoiser.optimizer.step()\n",
    "    print(f'Epoch [{epoch+1}/{epochs}], Loss: {loss.item():.4f}')\n",
    "    \n",
    "ModelPersistence.save(denoiser)\n",
    "\n",
    "plotLoss(losses)"
   ]
  },
  {
   "cell_type": "code",
   "execution_count": 10,
   "metadata": {},
   "outputs": [
    {
     "data": {
      "image/png": "[encoded data removed]",
      "text/plain": [
       "<Figure size 2000x800 with 10 Axes>"
      ]
     },
     "metadata": {},
     "output_type": "display_data"
    }
   ],
   "source": [
    "randomNoise = torch.randn((5, 128), device=device)\n",
    "\n",
    "with torch.no_grad():\n",
    "    \n",
    "    test_images, _ = next(iter(train_loader))\n",
    "    test_images = test_images.to(device)\n",
    "\n",
    "    out = randomNoise\n",
    "    for i in range(10):\n",
    "        out = denoiser(out)\n",
    "\n",
    "    generatedImages = decoder(out)\n",
    "\n",
    "    displaySamples(5, randomRealImages=test_images.cpu(), randomGeneratedImages=generatedImages.cpu())"
   ]
  },
  {
   "cell_type": "code",
   "execution_count": 8,
   "metadata": {},
   "outputs": [
    {
     "name": "stderr",
     "output_type": "stream",
     "text": [
      "C:\\Users\\Thiago\\AppData\\Local\\Temp\\ipykernel_33224\\1521150663.py:44: FutureWarning: You are using `torch.load` with `weights_only=False` (the current default value), which uses the default pickle module implicitly. It is possible to construct malicious pickle data which will execute arbitrary code during unpickling (See https://github.com/pytorch/pytorch/blob/main/SECURITY.md#untrusted-models for more details). In a future release, the default value for `weights_only` will be flipped to `True`. This limits the functions that could be executed during unpickling. Arbitrary objects will no longer be allowed to be loaded via this mode unless they are explicitly allowlisted by the user via `torch.serialization.add_safe_globals`. We recommend you start setting `weights_only=True` for any use case where you don't have full control of the loaded file. Please open an issue on GitHub for any issues related to this experimental feature.\n",
      "  state_dict = torch.load(result.path)\n"
     ]
    }
   ],
   "source": [
    "denoiser = ModelPersistence.load(Denoiser)\n",
    "encoder = ModelPersistence.load(Encoder)\n",
    "decoder = ModelPersistence.load(Decoder)"
   ]
  }
 ],
 "metadata": {
  "kernelspec": {
   "display_name": "torch",
   "language": "python",
   "name": "python3"
  },
  "language_info": {
   "codemirror_mode": {
    "name": "ipython",
    "version": 3
   },
   "file_extension": ".py",
   "mimetype": "text/x-python",
   "name": "python",
   "nbconvert_exporter": "python",
   "pygments_lexer": "ipython3",
   "version": "3.12.2"
  }
 },
 "nbformat": 4,
 "nbformat_minor": 2
}
